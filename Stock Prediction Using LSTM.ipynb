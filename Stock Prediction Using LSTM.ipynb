{
 "cells": [
  {
   "cell_type": "markdown",
   "id": "ac87695c",
   "metadata": {},
   "source": [
    "### Stock Market Prediction Using LSTM"
   ]
  },
  {
   "cell_type": "code",
   "execution_count": 84,
   "id": "d54bb305",
   "metadata": {},
   "outputs": [],
   "source": [
    "# importing libraries\n",
    "import numpy as np\n",
    "import pandas as pd\n",
    "import matplotlib.pyplot as plt\n",
    "import seaborn as sns\n",
    "import tensorflow as tf\n",
    "import pandas_datareader as pdr"
   ]
  },
  {
   "cell_type": "code",
   "execution_count": 85,
   "id": "a2eb32d0",
   "metadata": {},
   "outputs": [],
   "source": [
    "# Data Collection\n",
    "df = pd.read_csv('AAPL.csv')"
   ]
  },
  {
   "cell_type": "code",
   "execution_count": 86,
   "id": "592eedf7",
   "metadata": {},
   "outputs": [
    {
     "data": {
      "text/html": [
       "<div>\n",
       "<style scoped>\n",
       "    .dataframe tbody tr th:only-of-type {\n",
       "        vertical-align: middle;\n",
       "    }\n",
       "\n",
       "    .dataframe tbody tr th {\n",
       "        vertical-align: top;\n",
       "    }\n",
       "\n",
       "    .dataframe thead th {\n",
       "        text-align: right;\n",
       "    }\n",
       "</style>\n",
       "<table border=\"1\" class=\"dataframe\">\n",
       "  <thead>\n",
       "    <tr style=\"text-align: right;\">\n",
       "      <th></th>\n",
       "      <th>Unnamed: 0</th>\n",
       "      <th>symbol</th>\n",
       "      <th>date</th>\n",
       "      <th>close</th>\n",
       "      <th>high</th>\n",
       "      <th>low</th>\n",
       "      <th>open</th>\n",
       "      <th>volume</th>\n",
       "      <th>adjClose</th>\n",
       "      <th>adjHigh</th>\n",
       "      <th>adjLow</th>\n",
       "      <th>adjOpen</th>\n",
       "      <th>adjVolume</th>\n",
       "      <th>divCash</th>\n",
       "      <th>splitFactor</th>\n",
       "    </tr>\n",
       "  </thead>\n",
       "  <tbody>\n",
       "    <tr>\n",
       "      <th>0</th>\n",
       "      <td>0</td>\n",
       "      <td>AAPL</td>\n",
       "      <td>2015-05-27 00:00:00+00:00</td>\n",
       "      <td>132.045</td>\n",
       "      <td>132.260</td>\n",
       "      <td>130.05</td>\n",
       "      <td>130.34</td>\n",
       "      <td>45833246</td>\n",
       "      <td>121.682558</td>\n",
       "      <td>121.880685</td>\n",
       "      <td>119.844118</td>\n",
       "      <td>120.111360</td>\n",
       "      <td>45833246</td>\n",
       "      <td>0.0</td>\n",
       "      <td>1.0</td>\n",
       "    </tr>\n",
       "    <tr>\n",
       "      <th>1</th>\n",
       "      <td>1</td>\n",
       "      <td>AAPL</td>\n",
       "      <td>2015-05-28 00:00:00+00:00</td>\n",
       "      <td>131.780</td>\n",
       "      <td>131.950</td>\n",
       "      <td>131.10</td>\n",
       "      <td>131.86</td>\n",
       "      <td>30733309</td>\n",
       "      <td>121.438354</td>\n",
       "      <td>121.595013</td>\n",
       "      <td>120.811718</td>\n",
       "      <td>121.512076</td>\n",
       "      <td>30733309</td>\n",
       "      <td>0.0</td>\n",
       "      <td>1.0</td>\n",
       "    </tr>\n",
       "    <tr>\n",
       "      <th>2</th>\n",
       "      <td>2</td>\n",
       "      <td>AAPL</td>\n",
       "      <td>2015-05-29 00:00:00+00:00</td>\n",
       "      <td>130.280</td>\n",
       "      <td>131.450</td>\n",
       "      <td>129.90</td>\n",
       "      <td>131.23</td>\n",
       "      <td>50884452</td>\n",
       "      <td>120.056069</td>\n",
       "      <td>121.134251</td>\n",
       "      <td>119.705890</td>\n",
       "      <td>120.931516</td>\n",
       "      <td>50884452</td>\n",
       "      <td>0.0</td>\n",
       "      <td>1.0</td>\n",
       "    </tr>\n",
       "    <tr>\n",
       "      <th>3</th>\n",
       "      <td>3</td>\n",
       "      <td>AAPL</td>\n",
       "      <td>2015-06-01 00:00:00+00:00</td>\n",
       "      <td>130.535</td>\n",
       "      <td>131.390</td>\n",
       "      <td>130.05</td>\n",
       "      <td>131.20</td>\n",
       "      <td>32112797</td>\n",
       "      <td>120.291057</td>\n",
       "      <td>121.078960</td>\n",
       "      <td>119.844118</td>\n",
       "      <td>120.903870</td>\n",
       "      <td>32112797</td>\n",
       "      <td>0.0</td>\n",
       "      <td>1.0</td>\n",
       "    </tr>\n",
       "    <tr>\n",
       "      <th>4</th>\n",
       "      <td>4</td>\n",
       "      <td>AAPL</td>\n",
       "      <td>2015-06-02 00:00:00+00:00</td>\n",
       "      <td>129.960</td>\n",
       "      <td>130.655</td>\n",
       "      <td>129.32</td>\n",
       "      <td>129.86</td>\n",
       "      <td>33667627</td>\n",
       "      <td>119.761181</td>\n",
       "      <td>120.401640</td>\n",
       "      <td>119.171406</td>\n",
       "      <td>119.669029</td>\n",
       "      <td>33667627</td>\n",
       "      <td>0.0</td>\n",
       "      <td>1.0</td>\n",
       "    </tr>\n",
       "  </tbody>\n",
       "</table>\n",
       "</div>"
      ],
      "text/plain": [
       "   Unnamed: 0 symbol                       date    close     high     low  \\\n",
       "0           0   AAPL  2015-05-27 00:00:00+00:00  132.045  132.260  130.05   \n",
       "1           1   AAPL  2015-05-28 00:00:00+00:00  131.780  131.950  131.10   \n",
       "2           2   AAPL  2015-05-29 00:00:00+00:00  130.280  131.450  129.90   \n",
       "3           3   AAPL  2015-06-01 00:00:00+00:00  130.535  131.390  130.05   \n",
       "4           4   AAPL  2015-06-02 00:00:00+00:00  129.960  130.655  129.32   \n",
       "\n",
       "     open    volume    adjClose     adjHigh      adjLow     adjOpen  \\\n",
       "0  130.34  45833246  121.682558  121.880685  119.844118  120.111360   \n",
       "1  131.86  30733309  121.438354  121.595013  120.811718  121.512076   \n",
       "2  131.23  50884452  120.056069  121.134251  119.705890  120.931516   \n",
       "3  131.20  32112797  120.291057  121.078960  119.844118  120.903870   \n",
       "4  129.86  33667627  119.761181  120.401640  119.171406  119.669029   \n",
       "\n",
       "   adjVolume  divCash  splitFactor  \n",
       "0   45833246      0.0          1.0  \n",
       "1   30733309      0.0          1.0  \n",
       "2   50884452      0.0          1.0  \n",
       "3   32112797      0.0          1.0  \n",
       "4   33667627      0.0          1.0  "
      ]
     },
     "execution_count": 86,
     "metadata": {},
     "output_type": "execute_result"
    }
   ],
   "source": [
    "df.head()"
   ]
  },
  {
   "cell_type": "code",
   "execution_count": 87,
   "id": "3e04d91e",
   "metadata": {},
   "outputs": [],
   "source": [
    "df1 = df.reset_index()['close']"
   ]
  },
  {
   "cell_type": "code",
   "execution_count": 88,
   "id": "49edd06f",
   "metadata": {},
   "outputs": [
    {
     "data": {
      "text/plain": [
       "0       132.045\n",
       "1       131.780\n",
       "2       130.280\n",
       "3       130.535\n",
       "4       129.960\n",
       "         ...   \n",
       "1253    314.960\n",
       "1254    313.140\n",
       "1255    319.230\n",
       "1256    316.850\n",
       "1257    318.890\n",
       "Name: close, Length: 1258, dtype: float64"
      ]
     },
     "execution_count": 88,
     "metadata": {},
     "output_type": "execute_result"
    }
   ],
   "source": [
    "df1"
   ]
  },
  {
   "cell_type": "code",
   "execution_count": 89,
   "id": "01c6790c",
   "metadata": {},
   "outputs": [
    {
     "data": {
      "text/plain": [
       "(1258,)"
      ]
     },
     "execution_count": 89,
     "metadata": {},
     "output_type": "execute_result"
    }
   ],
   "source": [
    "df1.shape"
   ]
  },
  {
   "cell_type": "code",
   "execution_count": 90,
   "id": "b0d0a5f4",
   "metadata": {},
   "outputs": [
    {
     "data": {
      "text/plain": [
       "[<matplotlib.lines.Line2D at 0x1868b7c1ed0>]"
      ]
     },
     "execution_count": 90,
     "metadata": {},
     "output_type": "execute_result"
    },
    {
     "data": {
      "image/png": "[encoded data removed]",
      "text/plain": [
       "<Figure size 640x480 with 1 Axes>"
      ]
     },
     "metadata": {},
     "output_type": "display_data"
    }
   ],
   "source": [
    "plt.plot(df1)"
   ]
  },
  {
   "cell_type": "code",
   "execution_count": 91,
   "id": "d800f538",
   "metadata": {},
   "outputs": [],
   "source": [
    "# LSTM is sensitive to scale the data. So we apply MinMax Scaler"
   ]
  },
  {
   "cell_type": "code",
   "execution_count": 92,
   "id": "1840c6fc",
   "metadata": {},
   "outputs": [],
   "source": [
    "from sklearn.preprocessing import MinMaxScaler\n",
    "scaler = MinMaxScaler(feature_range=(0,1))\n",
    "df1 = scaler.fit_transform(np.array(df1).reshape(-1,1))"
   ]
  },
  {
   "cell_type": "code",
   "execution_count": 93,
   "id": "0a9bb932",
   "metadata": {},
   "outputs": [
    {
     "data": {
      "text/plain": [
       "array([[0.17607447],\n",
       "       [0.17495567],\n",
       "       [0.16862282],\n",
       "       ...,\n",
       "       [0.96635143],\n",
       "       [0.9563033 ],\n",
       "       [0.96491598]])"
      ]
     },
     "execution_count": 93,
     "metadata": {},
     "output_type": "execute_result"
    }
   ],
   "source": [
    "df1"
   ]
  },
  {
   "cell_type": "code",
   "execution_count": 94,
   "id": "e34ef07e",
   "metadata": {},
   "outputs": [
    {
     "data": {
      "text/plain": [
       "(1258, 1)"
      ]
     },
     "execution_count": 94,
     "metadata": {},
     "output_type": "execute_result"
    }
   ],
   "source": [
    "df1.shape"
   ]
  },
  {
   "cell_type": "code",
   "execution_count": 95,
   "id": "8feec175",
   "metadata": {},
   "outputs": [],
   "source": [
    "# Splitting data into train split and test split\n",
    "training_size = int(len(df1)*0.7)\n",
    "test_size = len(df1) - training_size"
   ]
  },
  {
   "cell_type": "code",
   "execution_count": 96,
   "id": "45620e2d",
   "metadata": {},
   "outputs": [
    {
     "data": {
      "text/plain": [
       "(880, 378)"
      ]
     },
     "execution_count": 96,
     "metadata": {},
     "output_type": "execute_result"
    }
   ],
   "source": [
    "training_size,test_size"
   ]
  },
  {
   "cell_type": "code",
   "execution_count": 97,
   "id": "9d185b38",
   "metadata": {},
   "outputs": [],
   "source": [
    "train_data = df1[0:training_size,:]\n",
    "test_data = df1[training_size:len(df1),:1]"
   ]
  },
  {
   "cell_type": "code",
   "execution_count": 98,
   "id": "61565dd6",
   "metadata": {
    "scrolled": false
   },
   "outputs": [
    {
     "name": "stdout",
     "output_type": "stream",
     "text": [
      "880\n",
      "378\n"
     ]
    }
   ],
   "source": [
    "print(len(train_data))\n",
    "print(len(test_data))"
   ]
  },
  {
   "cell_type": "code",
   "execution_count": 99,
   "id": "13d51555",
   "metadata": {},
   "outputs": [],
   "source": [
    "# convert an array of values into a dataset matrix\n",
    "def create_dataset(dataset, time_step = 1):\n",
    "    dataX, dataY = [] , []\n",
    "    for i in range(len(dataset) - time_step - 1):\n",
    "        a = dataset[i:(i+time_step),0]    ## i=0 ---> 0,1,2,3--------99   100\n",
    "        dataX.append(a)\n",
    "        dataY.append(dataset[i + time_step, 0])\n",
    "    return np.array(dataX), np.array(dataY)"
   ]
  },
  {
   "cell_type": "code",
   "execution_count": 100,
   "id": "e301e910",
   "metadata": {},
   "outputs": [],
   "source": [
    "# reshape into X = t,t+1,t+2,t+3 and Y = t+4\n",
    "time_step = 100\n",
    "X_train , y_train = create_dataset(train_data,time_step)\n",
    "X_test , y_test = create_dataset(test_data,time_step)"
   ]
  },
  {
   "cell_type": "code",
   "execution_count": 101,
   "id": "f6d03b18",
   "metadata": {},
   "outputs": [
    {
     "name": "stdout",
     "output_type": "stream",
     "text": [
      "(779, 100)\n",
      "(779,)\n"
     ]
    }
   ],
   "source": [
    "print(X_train.shape) \n",
    "print(y_train.shape)"
   ]
  },
  {
   "cell_type": "code",
   "execution_count": 102,
   "id": "a4257810",
   "metadata": {},
   "outputs": [
    {
     "name": "stdout",
     "output_type": "stream",
     "text": [
      "(277, 100)\n",
      "(277,)\n"
     ]
    }
   ],
   "source": [
    "print(X_test.shape) \n",
    "print(y_test.shape)"
   ]
  },
  {
   "cell_type": "code",
   "execution_count": 103,
   "id": "4f991e16",
   "metadata": {},
   "outputs": [],
   "source": [
    "# Reshape input to [samples, timesteps, features] which is required for LSTM\n",
    "\n",
    "X_train = X_train.reshape(X_train.shape[0], X_train.shape[1], 1)\n",
    "X_test = X_test.reshape(X_test.shape[0], X_test.shape[1], 1)"
   ]
  },
  {
   "cell_type": "code",
   "execution_count": 104,
   "id": "06861fab",
   "metadata": {},
   "outputs": [],
   "source": [
    "# Create the LSTM model\n",
    "\n",
    "from tensorflow.keras.models import Sequential\n",
    "from tensorflow.keras.layers import Dense\n",
    "from tensorflow.keras.layers import LSTM"
   ]
  },
  {
   "cell_type": "code",
   "execution_count": 105,
   "id": "b1fdade3",
   "metadata": {},
   "outputs": [],
   "source": [
    "model = Sequential()\n",
    "model.add(LSTM(50,return_sequences=True,input_shape=(100,1)))\n",
    "model.add(LSTM(50,return_sequences=True))\n",
    "model.add(LSTM(50))\n",
    "model.add(Dense(1))\n",
    "model.compile(loss='mean_squared_error',optimizer='adam')"
   ]
  },
  {
   "cell_type": "code",
   "execution_count": 106,
   "id": "feb26bcb",
   "metadata": {},
   "outputs": [
    {
     "name": "stdout",
     "output_type": "stream",
     "text": [
      "Model: \"sequential_2\"\n",
      "_________________________________________________________________\n",
      " Layer (type)                Output Shape              Param #   \n",
      "=================================================================\n",
      " lstm_3 (LSTM)               (None, 100, 50)           10400     \n",
      "                                                                 \n",
      " lstm_4 (LSTM)               (None, 100, 50)           20200     \n",
      "                                                                 \n",
      " lstm_5 (LSTM)               (None, 50)                20200     \n",
      "                                                                 \n",
      " dense_1 (Dense)             (None, 1)                 51        \n",
      "                                                                 \n",
      "=================================================================\n",
      "Total params: 50851 (198.64 KB)\n",
      "Trainable params: 50851 (198.64 KB)\n",
      "Non-trainable params: 0 (0.00 Byte)\n",
      "_________________________________________________________________\n"
     ]
    }
   ],
   "source": [
    "model.summary()"
   ]
  },
  {
   "cell_type": "code",
   "execution_count": 107,
   "id": "35283bd5",
   "metadata": {
    "scrolled": true
   },
   "outputs": [
    {
     "name": "stdout",
     "output_type": "stream",
     "text": [
      "Epoch 1/100\n",
      "13/13 [==============================] - 14s 383ms/step - loss: 0.0159 - val_loss: 0.0651\n",
      "Epoch 2/100\n",
      "13/13 [==============================] - 3s 207ms/step - loss: 0.0033 - val_loss: 0.0104\n",
      "Epoch 3/100\n",
      "13/13 [==============================] - 3s 236ms/step - loss: 0.0013 - val_loss: 0.0047\n",
      "Epoch 4/100\n",
      "13/13 [==============================] - 3s 244ms/step - loss: 8.3330e-04 - val_loss: 0.0046\n",
      "Epoch 5/100\n",
      "13/13 [==============================] - 3s 255ms/step - loss: 7.6104e-04 - val_loss: 0.0048\n",
      "Epoch 6/100\n",
      "13/13 [==============================] - 3s 270ms/step - loss: 7.1688e-04 - val_loss: 0.0049\n",
      "Epoch 7/100\n",
      "13/13 [==============================] - 3s 212ms/step - loss: 6.9539e-04 - val_loss: 0.0057\n",
      "Epoch 8/100\n",
      "13/13 [==============================] - 3s 265ms/step - loss: 7.0364e-04 - val_loss: 0.0058\n",
      "Epoch 9/100\n",
      "13/13 [==============================] - 4s 334ms/step - loss: 7.0045e-04 - val_loss: 0.0054\n",
      "Epoch 10/100\n",
      "13/13 [==============================] - 4s 274ms/step - loss: 6.6748e-04 - val_loss: 0.0061\n",
      "Epoch 11/100\n",
      "13/13 [==============================] - 5s 365ms/step - loss: 6.5737e-04 - val_loss: 0.0062\n",
      "Epoch 12/100\n",
      "13/13 [==============================] - 4s 323ms/step - loss: 6.4807e-04 - val_loss: 0.0063\n",
      "Epoch 13/100\n",
      "13/13 [==============================] - 4s 311ms/step - loss: 6.4287e-04 - val_loss: 0.0063\n",
      "Epoch 14/100\n",
      "13/13 [==============================] - 5s 407ms/step - loss: 6.2607e-04 - val_loss: 0.0064\n",
      "Epoch 15/100\n",
      "13/13 [==============================] - 4s 346ms/step - loss: 6.2239e-04 - val_loss: 0.0050\n",
      "Epoch 16/100\n",
      "13/13 [==============================] - 3s 221ms/step - loss: 5.9970e-04 - val_loss: 0.0049\n",
      "Epoch 17/100\n",
      "13/13 [==============================] - 3s 215ms/step - loss: 5.9839e-04 - val_loss: 0.0048\n",
      "Epoch 18/100\n",
      "13/13 [==============================] - 4s 293ms/step - loss: 5.9336e-04 - val_loss: 0.0050\n",
      "Epoch 19/100\n",
      "13/13 [==============================] - 4s 327ms/step - loss: 5.7630e-04 - val_loss: 0.0038\n",
      "Epoch 20/100\n",
      "13/13 [==============================] - 3s 220ms/step - loss: 5.8400e-04 - val_loss: 0.0052\n",
      "Epoch 21/100\n",
      "13/13 [==============================] - 3s 230ms/step - loss: 5.4359e-04 - val_loss: 0.0044\n",
      "Epoch 22/100\n",
      "13/13 [==============================] - 4s 268ms/step - loss: 5.3010e-04 - val_loss: 0.0036\n",
      "Epoch 23/100\n",
      "13/13 [==============================] - 3s 269ms/step - loss: 5.6229e-04 - val_loss: 0.0036\n",
      "Epoch 24/100\n",
      "13/13 [==============================] - 3s 262ms/step - loss: 5.3429e-04 - val_loss: 0.0035\n",
      "Epoch 25/100\n",
      "13/13 [==============================] - 3s 236ms/step - loss: 5.1695e-04 - val_loss: 0.0050\n",
      "Epoch 26/100\n",
      "13/13 [==============================] - 3s 254ms/step - loss: 5.0100e-04 - val_loss: 0.0049\n",
      "Epoch 27/100\n",
      "13/13 [==============================] - 3s 228ms/step - loss: 4.8686e-04 - val_loss: 0.0025\n",
      "Epoch 28/100\n",
      "13/13 [==============================] - 3s 192ms/step - loss: 5.2096e-04 - val_loss: 0.0033\n",
      "Epoch 29/100\n",
      "13/13 [==============================] - 3s 210ms/step - loss: 4.5378e-04 - val_loss: 0.0031\n",
      "Epoch 30/100\n",
      "13/13 [==============================] - 3s 218ms/step - loss: 4.4792e-04 - val_loss: 0.0026\n",
      "Epoch 31/100\n",
      "13/13 [==============================] - 3s 201ms/step - loss: 4.4434e-04 - val_loss: 0.0045\n",
      "Epoch 32/100\n",
      "13/13 [==============================] - 2s 188ms/step - loss: 4.7014e-04 - val_loss: 0.0039\n",
      "Epoch 33/100\n",
      "13/13 [==============================] - 3s 204ms/step - loss: 6.7721e-04 - val_loss: 0.0020\n",
      "Epoch 34/100\n",
      "13/13 [==============================] - 3s 217ms/step - loss: 4.6844e-04 - val_loss: 0.0031\n",
      "Epoch 35/100\n",
      "13/13 [==============================] - 3s 210ms/step - loss: 4.5406e-04 - val_loss: 0.0035\n",
      "Epoch 36/100\n",
      "13/13 [==============================] - 3s 227ms/step - loss: 4.2578e-04 - val_loss: 0.0020\n",
      "Epoch 37/100\n",
      "13/13 [==============================] - 3s 210ms/step - loss: 4.0808e-04 - val_loss: 0.0029\n",
      "Epoch 38/100\n",
      "13/13 [==============================] - 3s 229ms/step - loss: 3.9667e-04 - val_loss: 0.0046\n",
      "Epoch 39/100\n",
      "13/13 [==============================] - 3s 268ms/step - loss: 4.0741e-04 - val_loss: 0.0023\n",
      "Epoch 40/100\n",
      "13/13 [==============================] - 3s 202ms/step - loss: 4.1406e-04 - val_loss: 0.0019\n",
      "Epoch 41/100\n",
      "13/13 [==============================] - 3s 200ms/step - loss: 4.1352e-04 - val_loss: 0.0021\n",
      "Epoch 42/100\n",
      "13/13 [==============================] - 3s 218ms/step - loss: 3.8259e-04 - val_loss: 0.0025\n",
      "Epoch 43/100\n",
      "13/13 [==============================] - 3s 259ms/step - loss: 4.5008e-04 - val_loss: 0.0016\n",
      "Epoch 44/100\n",
      "13/13 [==============================] - 3s 201ms/step - loss: 4.6228e-04 - val_loss: 0.0048\n",
      "Epoch 45/100\n",
      "13/13 [==============================] - 3s 200ms/step - loss: 4.4473e-04 - val_loss: 0.0015\n",
      "Epoch 46/100\n",
      "13/13 [==============================] - 3s 256ms/step - loss: 4.1857e-04 - val_loss: 0.0025\n",
      "Epoch 47/100\n",
      "13/13 [==============================] - 3s 249ms/step - loss: 3.6623e-04 - val_loss: 0.0037\n",
      "Epoch 48/100\n",
      "13/13 [==============================] - 3s 208ms/step - loss: 4.6059e-04 - val_loss: 0.0014\n",
      "Epoch 49/100\n",
      "13/13 [==============================] - 3s 226ms/step - loss: 4.3158e-04 - val_loss: 0.0032\n",
      "Epoch 50/100\n",
      "13/13 [==============================] - 3s 253ms/step - loss: 4.1648e-04 - val_loss: 0.0016\n",
      "Epoch 51/100\n",
      "13/13 [==============================] - 3s 231ms/step - loss: 4.0652e-04 - val_loss: 0.0020\n",
      "Epoch 52/100\n",
      "13/13 [==============================] - 3s 252ms/step - loss: 3.3178e-04 - val_loss: 0.0027\n",
      "Epoch 53/100\n",
      "13/13 [==============================] - 3s 249ms/step - loss: 3.4348e-04 - val_loss: 0.0017\n",
      "Epoch 54/100\n",
      "13/13 [==============================] - 3s 226ms/step - loss: 3.7658e-04 - val_loss: 0.0016\n",
      "Epoch 55/100\n",
      "13/13 [==============================] - 3s 255ms/step - loss: 3.2588e-04 - val_loss: 0.0019\n",
      "Epoch 56/100\n",
      "13/13 [==============================] - 3s 225ms/step - loss: 3.0168e-04 - val_loss: 0.0027\n",
      "Epoch 57/100\n",
      "13/13 [==============================] - 3s 232ms/step - loss: 3.2521e-04 - val_loss: 0.0013\n",
      "Epoch 58/100\n",
      "13/13 [==============================] - 3s 248ms/step - loss: 3.4555e-04 - val_loss: 0.0019\n",
      "Epoch 59/100\n",
      "13/13 [==============================] - 3s 214ms/step - loss: 3.1873e-04 - val_loss: 0.0017\n",
      "Epoch 60/100\n",
      "13/13 [==============================] - 3s 208ms/step - loss: 2.8881e-04 - val_loss: 0.0013\n",
      "Epoch 61/100\n",
      "13/13 [==============================] - 3s 202ms/step - loss: 2.9295e-04 - val_loss: 0.0022\n",
      "Epoch 62/100\n",
      "13/13 [==============================] - 3s 230ms/step - loss: 2.8880e-04 - val_loss: 0.0015\n",
      "Epoch 63/100\n",
      "13/13 [==============================] - 2s 192ms/step - loss: 3.0273e-04 - val_loss: 0.0013\n",
      "Epoch 64/100\n",
      "13/13 [==============================] - 3s 194ms/step - loss: 3.0625e-04 - val_loss: 0.0023\n",
      "Epoch 65/100\n",
      "13/13 [==============================] - 3s 212ms/step - loss: 2.6722e-04 - val_loss: 0.0022\n",
      "Epoch 66/100\n",
      "13/13 [==============================] - 4s 317ms/step - loss: 2.9271e-04 - val_loss: 0.0012\n",
      "Epoch 67/100\n",
      "13/13 [==============================] - 4s 294ms/step - loss: 2.9970e-04 - val_loss: 0.0027\n",
      "Epoch 68/100\n",
      "13/13 [==============================] - 4s 324ms/step - loss: 2.7780e-04 - val_loss: 0.0013\n",
      "Epoch 69/100\n",
      "13/13 [==============================] - 5s 377ms/step - loss: 2.4672e-04 - val_loss: 0.0012\n",
      "Epoch 70/100\n",
      "13/13 [==============================] - 5s 374ms/step - loss: 2.4787e-04 - val_loss: 0.0017\n",
      "Epoch 71/100\n",
      "13/13 [==============================] - 4s 296ms/step - loss: 2.4737e-04 - val_loss: 0.0024\n",
      "Epoch 72/100\n",
      "13/13 [==============================] - 4s 329ms/step - loss: 3.0206e-04 - val_loss: 0.0016\n",
      "Epoch 73/100\n",
      "13/13 [==============================] - 5s 362ms/step - loss: 2.8100e-04 - val_loss: 0.0015\n",
      "Epoch 74/100\n",
      "13/13 [==============================] - 6s 443ms/step - loss: 2.2594e-04 - val_loss: 0.0012\n",
      "Epoch 75/100\n",
      "13/13 [==============================] - 5s 365ms/step - loss: 2.2438e-04 - val_loss: 0.0011\n",
      "Epoch 76/100\n",
      "13/13 [==============================] - 5s 393ms/step - loss: 2.1170e-04 - val_loss: 0.0020\n",
      "Epoch 77/100\n",
      "13/13 [==============================] - 5s 363ms/step - loss: 2.2842e-04 - val_loss: 0.0010\n",
      "Epoch 78/100\n"
     ]
    },
    {
     "name": "stdout",
     "output_type": "stream",
     "text": [
      "13/13 [==============================] - 3s 267ms/step - loss: 2.3826e-04 - val_loss: 0.0012\n",
      "Epoch 79/100\n",
      "13/13 [==============================] - 5s 342ms/step - loss: 2.5925e-04 - val_loss: 0.0010\n",
      "Epoch 80/100\n",
      "13/13 [==============================] - 5s 400ms/step - loss: 2.0994e-04 - val_loss: 0.0012\n",
      "Epoch 81/100\n",
      "13/13 [==============================] - 5s 371ms/step - loss: 1.9959e-04 - val_loss: 9.6890e-04\n",
      "Epoch 82/100\n",
      "13/13 [==============================] - 5s 389ms/step - loss: 2.3118e-04 - val_loss: 0.0024\n",
      "Epoch 83/100\n",
      "13/13 [==============================] - 3s 248ms/step - loss: 2.0840e-04 - val_loss: 0.0015\n",
      "Epoch 84/100\n",
      "13/13 [==============================] - 5s 413ms/step - loss: 2.2404e-04 - val_loss: 0.0011\n",
      "Epoch 85/100\n",
      "13/13 [==============================] - 5s 397ms/step - loss: 2.4243e-04 - val_loss: 0.0011\n",
      "Epoch 86/100\n",
      "13/13 [==============================] - 4s 314ms/step - loss: 2.0140e-04 - val_loss: 9.9778e-04\n",
      "Epoch 87/100\n",
      "13/13 [==============================] - 5s 388ms/step - loss: 2.3372e-04 - val_loss: 0.0011\n",
      "Epoch 88/100\n",
      "13/13 [==============================] - 4s 269ms/step - loss: 1.9106e-04 - val_loss: 0.0014\n",
      "Epoch 89/100\n",
      "13/13 [==============================] - 5s 397ms/step - loss: 1.8385e-04 - val_loss: 0.0011\n",
      "Epoch 90/100\n",
      "13/13 [==============================] - 6s 434ms/step - loss: 1.7743e-04 - val_loss: 0.0013\n",
      "Epoch 91/100\n",
      "13/13 [==============================] - 4s 325ms/step - loss: 1.8057e-04 - val_loss: 9.2418e-04\n",
      "Epoch 92/100\n",
      "13/13 [==============================] - 3s 273ms/step - loss: 1.9691e-04 - val_loss: 0.0014\n",
      "Epoch 93/100\n",
      "13/13 [==============================] - 4s 306ms/step - loss: 1.8807e-04 - val_loss: 0.0014\n",
      "Epoch 94/100\n",
      "13/13 [==============================] - 4s 308ms/step - loss: 2.1833e-04 - val_loss: 8.7275e-04\n",
      "Epoch 95/100\n",
      "13/13 [==============================] - 4s 320ms/step - loss: 2.0621e-04 - val_loss: 9.3026e-04\n",
      "Epoch 96/100\n",
      "13/13 [==============================] - 3s 272ms/step - loss: 2.2672e-04 - val_loss: 0.0011\n",
      "Epoch 97/100\n",
      "13/13 [==============================] - 4s 281ms/step - loss: 1.7113e-04 - val_loss: 0.0011\n",
      "Epoch 98/100\n",
      "13/13 [==============================] - 3s 257ms/step - loss: 1.6944e-04 - val_loss: 0.0011\n",
      "Epoch 99/100\n",
      "13/13 [==============================] - 5s 369ms/step - loss: 1.6689e-04 - val_loss: 8.7324e-04\n",
      "Epoch 100/100\n",
      "13/13 [==============================] - 5s 382ms/step - loss: 1.9697e-04 - val_loss: 8.5929e-04\n"
     ]
    },
    {
     "data": {
      "text/plain": [
       "<keras.src.callbacks.History at 0x1868bcf7390>"
      ]
     },
     "execution_count": 107,
     "metadata": {},
     "output_type": "execute_result"
    }
   ],
   "source": [
    "model.fit(X_train,y_train,validation_data=(X_test,y_test),\n",
    "          epochs=100,batch_size=64,verbose=1)"
   ]
  },
  {
   "cell_type": "code",
   "execution_count": 108,
   "id": "55dcd284",
   "metadata": {},
   "outputs": [
    {
     "name": "stdout",
     "output_type": "stream",
     "text": [
      "25/25 [==============================] - 3s 42ms/step\n",
      "9/9 [==============================] - 0s 42ms/step\n"
     ]
    }
   ],
   "source": [
    "# Lets do the prediction and check performance metrics\n",
    "train_predict = model.predict(X_train)\n",
    "test_predict = model.predict(X_test)"
   ]
  },
  {
   "cell_type": "code",
   "execution_count": 109,
   "id": "7019035a",
   "metadata": {},
   "outputs": [],
   "source": [
    "# Transform back to original form (Inverse transform)\n",
    "train_predict = scaler.inverse_transform(train_predict)\n",
    "test_predict = scaler.inverse_transform(test_predict)"
   ]
  },
  {
   "cell_type": "code",
   "execution_count": 110,
   "id": "6fa86f72",
   "metadata": {},
   "outputs": [
    {
     "data": {
      "text/plain": [
       "150.9545240165103"
      ]
     },
     "execution_count": 110,
     "metadata": {},
     "output_type": "execute_result"
    }
   ],
   "source": [
    "# Calculate RMSE performance metrics\n",
    "import math\n",
    "from sklearn.metrics import mean_squared_error\n",
    "math.sqrt(mean_squared_error(y_train,train_predict))"
   ]
  },
  {
   "cell_type": "code",
   "execution_count": 111,
   "id": "8286e001",
   "metadata": {},
   "outputs": [
    {
     "data": {
      "text/plain": [
       "248.77403832723002"
      ]
     },
     "execution_count": 111,
     "metadata": {},
     "output_type": "execute_result"
    }
   ],
   "source": [
    "# Test data RMSE\n",
    "math.sqrt(mean_squared_error(y_test,test_predict))"
   ]
  },
  {
   "cell_type": "code",
   "execution_count": 118,
   "id": "abd0b643",
   "metadata": {},
   "outputs": [
    {
     "data": {
      "image/png": "[encoded data removed]",
      "text/plain": [
       "<Figure size 640x480 with 1 Axes>"
      ]
     },
     "metadata": {},
     "output_type": "display_data"
    }
   ],
   "source": [
    "# Plotting\n",
    "# shift train predictions for plotting\n",
    "look_back = 100\n",
    "trainPredictPlot = np.empty_like(df1)\n",
    "trainPredictPlot[: , :] = np.nan\n",
    "trainPredictPlot[look_back : len(train_predict) + look_back, :] = train_predict\n",
    "\n",
    "# shift test prediction for plotting\n",
    "testPredictPlot = np.empty_like(df1)\n",
    "testPredictPlot[: , :] = np.nan\n",
    "testPredictPlot[len(train_predict)+(look_back*2)+1 : len(df1)-1, :] = test_predict\n",
    "\n",
    "# plot base line and predictions\n",
    "plt.plot(scaler.inverse_transform(df1), label = 'Actual Data')\n",
    "plt.plot(trainPredictPlot, label = \"Train Predictions\")\n",
    "plt.plot(testPredictPlot, label = 'Test Predictions')\n",
    "plt.legend()\n",
    "plt.show()"
   ]
  },
  {
   "cell_type": "code",
   "execution_count": null,
   "id": "1428ecb5",
   "metadata": {},
   "outputs": [],
   "source": []
  }
 ],
 "metadata": {
  "kernelspec": {
   "display_name": "Python 3 (ipykernel)",
   "language": "python",
   "name": "python3"
  },
  "language_info": {
   "codemirror_mode": {
    "name": "ipython",
    "version": 3
   },
   "file_extension": ".py",
   "mimetype": "text/x-python",
   "name": "python",
   "nbconvert_exporter": "python",
   "pygments_lexer": "ipython3",
   "version": "3.11.3"
  }
 },
 "nbformat": 4,
 "nbformat_minor": 5
}
